{
 "cells": [
  {
   "cell_type": "code",
   "execution_count": 1,
   "metadata": {},
   "outputs": [
    {
     "data": {
      "text/plain": [
       "<torch._C.Generator at 0x7f41680ff1b0>"
      ]
     },
     "execution_count": 1,
     "metadata": {},
     "output_type": "execute_result"
    }
   ],
   "source": [
    "import pathlib\n",
    "\n",
    "import numpy as np\n",
    "import torch\n",
    "import torch.nn.functional as F\n",
    "import torch.optim as optim\n",
    "from dataset import SequenceDataset\n",
    "from sequence_transformations import TransformationRefined\n",
    "from torch import Tensor\n",
    "from torch.utils.data import DataLoader, random_split\n",
    "from torch.utils.tensorboard import SummaryWriter\n",
    "from torcheval.metrics.functional import (\n",
    "    binary_accuracy,\n",
    "    binary_f1_score,\n",
    "    binary_precision,\n",
    "    binary_recall,\n",
    ")\n",
    "\n",
    "torch.manual_seed(23)"
   ]
  },
  {
   "cell_type": "code",
   "execution_count": 2,
   "metadata": {},
   "outputs": [],
   "source": [
    "DATASET_PATH = pathlib.Path(\"../data/classification/data.csv\")\n",
    "BATCH_SIZE = 32\n",
    "SEQUENCE_LEN = 500"
   ]
  },
  {
   "cell_type": "code",
   "execution_count": 3,
   "metadata": {},
   "outputs": [],
   "source": [
    "from torch import nn\n",
    "from typing import Callable\n",
    "import numpy as np\n",
    "from tqdm import tqdm\n",
    "\n",
    "\n",
    "def loss_batch(\n",
    "    model: nn.Module,\n",
    "    loss_func: Callable[[Tensor, Tensor], Tensor],\n",
    "    xb: Tensor,\n",
    "    yb: Tensor,\n",
    "    opt: optim.Optimizer | None = None,\n",
    ") -> tuple[float, int]:\n",
    "    loss = loss_func(model(xb), yb)\n",
    "\n",
    "    if opt is not None:\n",
    "        loss.backward()\n",
    "        opt.step()\n",
    "        opt.zero_grad()\n",
    "\n",
    "    return loss.item(), len(xb)\n",
    "\n",
    "\n",
    "def calculate_epoch_metric(metrics, batch_sizes) -> float:\n",
    "    return np.sum(np.multiply(metrics, batch_sizes)) / np.sum(batch_sizes)\n",
    "\n",
    "\n",
    "def log_metrics(model, valid_dl) -> None:\n",
    "    preds = model()\n",
    "\n",
    "\n",
    "def fit(\n",
    "    epochs: int,\n",
    "    model: nn.Module,\n",
    "    loss_func: Callable[[Tensor, Tensor], Tensor],\n",
    "    opt: optim.Optimizer,\n",
    "    train_dl: DataLoader,\n",
    "    valid_dl: DataLoader,\n",
    "    writer: SummaryWriter,\n",
    ") -> None:\n",
    "    for epoch in range(epochs):\n",
    "        model.train()\n",
    "\n",
    "        train_history = []\n",
    "        for xb, yb in tqdm(train_dl):\n",
    "            loss, n = loss_batch(model, loss_func, xb, yb, opt)\n",
    "            train_history.append((loss, n))\n",
    "\n",
    "        # train loss\n",
    "        print(f\"Epoch: {epoch}\")\n",
    "        losses, nums = zip(*train_history)\n",
    "        train_loss = calculate_epoch_metric(losses, nums)\n",
    "        print(f\"Train loss: {train_loss}\")\n",
    "        writer.add_scalar(\"Loss/train\", train_loss, epoch)\n",
    "\n",
    "        model.eval()\n",
    "        with torch.no_grad():\n",
    "            # losses, nums = zip(\n",
    "            #     *[loss_batch(model, loss_func, xb, yb) for xb, yb in valid_dl]\n",
    "            # )\n",
    "            # very slow, I do inference for each metric separate!! REFACTOR\n",
    "            accuracies, nums = zip(\n",
    "                *[(binary_accuracy(model(xb), yb), len(xb)) for xb, yb in valid_dl]\n",
    "            )\n",
    "\n",
    "        # validation loss\n",
    "        # val_loss = calculate_epoch_metric(losses, nums)\n",
    "        val_accuracy = calculate_epoch_metric(accuracies, nums)\n",
    "        # writer.add_scalar(\"Loss/val\", val_loss, epoch)\n",
    "        writer.add_scalar(\"Accuracy/val\", val_accuracy, epoch)\n",
    "        # print(f\"Validation loss: {val_loss}\")"
   ]
  },
  {
   "cell_type": "markdown",
   "metadata": {},
   "source": [
    "# \"Refined\" Represenation"
   ]
  },
  {
   "cell_type": "code",
   "execution_count": 4,
   "metadata": {},
   "outputs": [],
   "source": [
    "dataset = SequenceDataset(DATASET_PATH, TransformationRefined())\n",
    "\n",
    "train_size = int(0.8 * len(dataset))\n",
    "val_size = len(dataset) - train_size\n",
    "\n",
    "train_dataset, val_dataset = random_split(\n",
    "    dataset,\n",
    "    [train_size, val_size],\n",
    ")\n",
    "\n",
    "# from torch.utils.data import DataLoader, SubsetRandomSampler\n",
    "\n",
    "# fraction = 0.02\n",
    "# num_samples = int(len(train_dataset) * fraction)\n",
    "# indices = torch.randperm(len(train_dataset))\n",
    "# subset_sampler = SubsetRandomSampler(indices[:num_samples])\n",
    "\n",
    "train_loader = DataLoader(train_dataset, batch_size=BATCH_SIZE, shuffle=True)\n",
    "# train_loader = DataLoader(train_dataset, batch_size=BATCH_SIZE, sampler=subset_sampler)\n",
    "val_loader = DataLoader(val_dataset, batch_size=(BATCH_SIZE * 2), shuffle=False)"
   ]
  },
  {
   "cell_type": "markdown",
   "metadata": {},
   "source": [
    "## Baseline"
   ]
  },
  {
   "cell_type": "code",
   "execution_count": 5,
   "metadata": {},
   "outputs": [],
   "source": [
    "from torch import nn\n",
    "\n",
    "\n",
    "class LogisticRegression(nn.Module):\n",
    "    def __init__(self):\n",
    "        super(LogisticRegression, self).__init__()\n",
    "        self.linear = nn.Linear(SEQUENCE_LEN * 2, 1)\n",
    "\n",
    "    def forward(self, x):  # B, T, C\n",
    "        x = x.view(x.size(0), -1)  # B, T * C\n",
    "        x = F.sigmoid(self.linear(x))  # B, 1\n",
    "        x = x.squeeze()  # B\n",
    "        x = x.to(torch.float32)\n",
    "        return x"
   ]
  },
  {
   "cell_type": "code",
   "execution_count": 6,
   "metadata": {},
   "outputs": [],
   "source": [
    "logistic_regression_model = LogisticRegression()\n",
    "opt = optim.Adam(logistic_regression_model.parameters(), lr=0.01)"
   ]
  },
  {
   "cell_type": "code",
   "execution_count": 7,
   "metadata": {},
   "outputs": [],
   "source": [
    "# print(binary_f1_score(output, ground_truth))\n",
    "# print(binary_accuracy(output, ground_truth))\n",
    "# print(binary_precision(output, ground_truth))\n",
    "# print(binary_recall(output, ground_truth))"
   ]
  },
  {
   "cell_type": "code",
   "execution_count": 8,
   "metadata": {},
   "outputs": [],
   "source": [
    "writer = SummaryWriter(\"runs/logistic_regression_refined\")"
   ]
  },
  {
   "cell_type": "code",
   "execution_count": 9,
   "metadata": {},
   "outputs": [
    {
     "name": "stderr",
     "output_type": "stream",
     "text": [
      "100%|██████████| 7183/7183 [01:20<00:00, 89.65it/s]\n"
     ]
    },
    {
     "name": "stdout",
     "output_type": "stream",
     "text": [
      "Epoch: 0\n",
      "Train loss: 0.8062556870663057\n"
     ]
    },
    {
     "name": "stderr",
     "output_type": "stream",
     "text": [
      "100%|██████████| 7183/7183 [01:24<00:00, 84.85it/s]\n"
     ]
    },
    {
     "name": "stdout",
     "output_type": "stream",
     "text": [
      "Epoch: 1\n",
      "Train loss: 0.7965391815188708\n"
     ]
    },
    {
     "name": "stderr",
     "output_type": "stream",
     "text": [
      "100%|██████████| 7183/7183 [01:31<00:00, 78.56it/s]\n"
     ]
    },
    {
     "name": "stdout",
     "output_type": "stream",
     "text": [
      "Epoch: 2\n",
      "Train loss: 0.7880991046400913\n"
     ]
    }
   ],
   "source": [
    "fit(\n",
    "    3,\n",
    "    logistic_regression_model,\n",
    "    F.binary_cross_entropy,\n",
    "    opt,\n",
    "    train_loader,\n",
    "    val_loader,\n",
    "    writer,\n",
    ")"
   ]
  },
  {
   "cell_type": "code",
   "execution_count": null,
   "metadata": {},
   "outputs": [],
   "source": [
    "writer.flush()"
   ]
  },
  {
   "cell_type": "code",
   "execution_count": null,
   "metadata": {},
   "outputs": [],
   "source": []
  }
 ],
 "metadata": {
  "kernelspec": {
   "display_name": ".venv",
   "language": "python",
   "name": "python3"
  },
  "language_info": {
   "codemirror_mode": {
    "name": "ipython",
    "version": 3
   },
   "file_extension": ".py",
   "mimetype": "text/x-python",
   "name": "python",
   "nbconvert_exporter": "python",
   "pygments_lexer": "ipython3",
   "version": "3.11.8"
  }
 },
 "nbformat": 4,
 "nbformat_minor": 2
}
