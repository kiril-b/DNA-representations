{
 "cells": [
  {
   "cell_type": "code",
   "execution_count": 1,
   "metadata": {},
   "outputs": [
    {
     "data": {
      "text/plain": [
       "<torch._C.Generator at 0x7f82903f71b0>"
      ]
     },
     "execution_count": 1,
     "metadata": {},
     "output_type": "execute_result"
    }
   ],
   "source": [
    "import pathlib\n",
    "\n",
    "import numpy as np\n",
    "import torch\n",
    "import torch.nn.functional as F\n",
    "import torch.optim as optim\n",
    "from dataset import SequenceDataset\n",
    "from sequence_transformations import TransformationRefined\n",
    "from torch import Tensor\n",
    "from torch.utils.data import DataLoader, random_split\n",
    "from torch.utils.tensorboard import SummaryWriter\n",
    "from torcheval.metrics.functional import (\n",
    "    binary_accuracy,\n",
    "    binary_f1_score,\n",
    "    binary_precision,\n",
    "    binary_recall,\n",
    ")\n",
    "\n",
    "torch.manual_seed(23)"
   ]
  },
  {
   "cell_type": "code",
   "execution_count": 2,
   "metadata": {},
   "outputs": [],
   "source": [
    "DATASET_PATH = pathlib.Path(\"../data/classification/data.csv\")\n",
    "BATCH_SIZE = 32\n",
    "SEQUENCE_LEN = 500"
   ]
  },
  {
   "cell_type": "code",
   "execution_count": 3,
   "metadata": {},
   "outputs": [],
   "source": [
    "from torch import nn\n",
    "from typing import Callable\n",
    "import numpy as np\n",
    "from tqdm import tqdm\n",
    "\n",
    "\n",
    "def calculate_epoch_metric(metrics: list[float], batch_sizes: list[int]) -> float:\n",
    "    return np.sum(np.multiply(metrics, batch_sizes)) / np.sum(batch_sizes)\n",
    "\n",
    "\n",
    "def log_metrics(model, valid_dl) -> None:\n",
    "    preds = model()\n",
    "\n",
    "\n",
    "def fit(\n",
    "    epochs: int,\n",
    "    model: nn.Module,\n",
    "    loss_func: Callable[[Tensor, Tensor], Tensor],\n",
    "    opt: optim.Optimizer,\n",
    "    train_dl: DataLoader,\n",
    "    valid_dl: DataLoader,\n",
    "    writer: SummaryWriter,\n",
    ") -> None:\n",
    "    for epoch in range(epochs):\n",
    "        model.train()\n",
    "\n",
    "        train_history = []\n",
    "        for xb, yb in tqdm(train_dl):\n",
    "            batch_size = len(xb)\n",
    "            loss = loss_func(model(xb), yb)\n",
    "            loss.backward()\n",
    "            opt.step()\n",
    "            opt.zero_grad()\n",
    "            train_history.append((loss.item(), batch_size))\n",
    "\n",
    "        # train loss\n",
    "        print(f\"Epoch: {epoch}\")\n",
    "        losses, nums = zip(*train_history)\n",
    "        train_loss = calculate_epoch_metric(losses, nums)\n",
    "        print(f\"Train loss: {train_loss}\")\n",
    "        writer.add_scalar(\"loss/train\", train_loss, epoch)\n",
    "\n",
    "        model.eval()\n",
    "        with torch.no_grad():\n",
    "            metrics = {k: [] for k in [\"loss\", \"accuracy\", \"precision\", \"recall\", \"f1\"]}\n",
    "            batch_sizes = []\n",
    "            for xb, yb in tqdm(valid_dl):\n",
    "                outputs = model(xb)\n",
    "                batch_sizes.append(len(xb))\n",
    "                metrics[\"loss\"].append(loss_func(outputs, yb).item())\n",
    "                metrics[\"accuracy\"].append(binary_accuracy(outputs, yb).item())\n",
    "                metrics[\"precision\"].append(binary_precision(outputs, yb).item())\n",
    "                metrics[\"recall\"].append(\n",
    "                    binary_recall(outputs.to(torch.int8), yb.to(torch.int8)).item()\n",
    "                )\n",
    "                metrics[\"f1\"].append(binary_f1_score(outputs, yb).item())\n",
    "\n",
    "            for m_name, metrics in metrics.items():\n",
    "                epoch_metric = calculate_epoch_metric(metrics, batch_sizes)\n",
    "                writer.add_scalar(f\"{m_name}/val\", epoch_metric, epoch)\n",
    "                print(f\"{m_name}: {epoch_metric}\")"
   ]
  },
  {
   "cell_type": "markdown",
   "metadata": {},
   "source": [
    "# \"Refined\" Represenation"
   ]
  },
  {
   "cell_type": "code",
   "execution_count": 4,
   "metadata": {},
   "outputs": [],
   "source": [
    "dataset = SequenceDataset(DATASET_PATH, TransformationRefined())\n",
    "\n",
    "train_size = int(0.8 * len(dataset))\n",
    "val_size = len(dataset) - train_size\n",
    "\n",
    "train_dataset, val_dataset = random_split(\n",
    "    dataset,\n",
    "    [train_size, val_size],\n",
    ")\n",
    "\n",
    "# from torch.utils.data import DataLoader, SubsetRandomSampler\n",
    "\n",
    "# fraction = 0.02\n",
    "# num_samples = int(len(train_dataset) * fraction)\n",
    "# indices = torch.randperm(len(train_dataset))\n",
    "# subset_sampler = SubsetRandomSampler(indices[:num_samples])\n",
    "\n",
    "train_loader = DataLoader(train_dataset, batch_size=BATCH_SIZE, shuffle=True)\n",
    "# train_loader = DataLoader(train_dataset, batch_size=BATCH_SIZE, sampler=subset_sampler)\n",
    "val_loader = DataLoader(val_dataset, batch_size=(BATCH_SIZE * 2), shuffle=False)"
   ]
  },
  {
   "cell_type": "markdown",
   "metadata": {},
   "source": [
    "## Baseline"
   ]
  },
  {
   "cell_type": "code",
   "execution_count": 5,
   "metadata": {},
   "outputs": [],
   "source": [
    "from torch import nn\n",
    "\n",
    "\n",
    "class LogisticRegression(nn.Module):\n",
    "    def __init__(self):\n",
    "        super(LogisticRegression, self).__init__()\n",
    "        self.linear = nn.Linear(SEQUENCE_LEN * 2, 1)\n",
    "\n",
    "    def forward(self, x):  # B, T, C\n",
    "        x = x.view(x.size(0), -1)  # B, T * C\n",
    "        x = F.sigmoid(self.linear(x))  # B, 1\n",
    "        x = x.squeeze()  # B\n",
    "        x = x.to(torch.float32)\n",
    "        return x"
   ]
  },
  {
   "cell_type": "code",
   "execution_count": 6,
   "metadata": {},
   "outputs": [],
   "source": [
    "logistic_regression_model = LogisticRegression()\n",
    "opt = optim.Adam(logistic_regression_model.parameters(), lr=0.01)"
   ]
  },
  {
   "cell_type": "code",
   "execution_count": 7,
   "metadata": {},
   "outputs": [],
   "source": [
    "writer = SummaryWriter(\"runs/logistic_regression_refined\")"
   ]
  },
  {
   "cell_type": "code",
   "execution_count": 8,
   "metadata": {},
   "outputs": [
    {
     "name": "stderr",
     "output_type": "stream",
     "text": [
      "100%|██████████| 7183/7183 [03:30<00:00, 34.09it/s]\n"
     ]
    },
    {
     "name": "stdout",
     "output_type": "stream",
     "text": [
      "Epoch: 0\n",
      "Train loss: 0.8062556870663057\n"
     ]
    },
    {
     "name": "stderr",
     "output_type": "stream",
     "text": [
      "100%|██████████| 898/898 [00:50<00:00, 17.78it/s]\n"
     ]
    },
    {
     "name": "stdout",
     "output_type": "stream",
     "text": [
      "loss: 0.9323835954366491\n",
      "accuracy: 0.5075787898289403\n",
      "precision: 0.6364704746944678\n",
      "recall: 0.0\n",
      "f1: 0.31374545374862284\n"
     ]
    },
    {
     "name": "stderr",
     "output_type": "stream",
     "text": [
      "100%|██████████| 7183/7183 [03:30<00:00, 34.05it/s]\n"
     ]
    },
    {
     "name": "stdout",
     "output_type": "stream",
     "text": [
      "Epoch: 1\n",
      "Train loss: 0.7965391815188708\n"
     ]
    },
    {
     "name": "stderr",
     "output_type": "stream",
     "text": [
      "100%|██████████| 898/898 [00:50<00:00, 17.88it/s]\n"
     ]
    },
    {
     "name": "stdout",
     "output_type": "stream",
     "text": [
      "loss: 0.7626403066528733\n",
      "accuracy: 0.5765623096497564\n",
      "precision: 0.5904730093843653\n",
      "recall: 0.0\n",
      "f1: 0.6430722986073307\n"
     ]
    },
    {
     "name": "stderr",
     "output_type": "stream",
     "text": [
      "100%|██████████| 7183/7183 [03:29<00:00, 34.21it/s]\n"
     ]
    },
    {
     "name": "stdout",
     "output_type": "stream",
     "text": [
      "Epoch: 2\n",
      "Train loss: 0.7880991046400913\n"
     ]
    },
    {
     "name": "stderr",
     "output_type": "stream",
     "text": [
      "100%|██████████| 898/898 [00:50<00:00, 17.88it/s]"
     ]
    },
    {
     "name": "stdout",
     "output_type": "stream",
     "text": [
      "loss: 0.7508740363713853\n",
      "accuracy: 0.576057637087176\n",
      "precision: 0.5977548786603166\n",
      "recall: 0.0\n",
      "f1: 0.6258367040093713\n"
     ]
    },
    {
     "name": "stderr",
     "output_type": "stream",
     "text": [
      "\n"
     ]
    }
   ],
   "source": [
    "fit(\n",
    "    3,\n",
    "    logistic_regression_model,\n",
    "    F.binary_cross_entropy,\n",
    "    opt,\n",
    "    train_loader,\n",
    "    val_loader,\n",
    "    writer,\n",
    ")"
   ]
  },
  {
   "cell_type": "code",
   "execution_count": 9,
   "metadata": {},
   "outputs": [],
   "source": [
    "writer.flush()"
   ]
  },
  {
   "cell_type": "code",
   "execution_count": null,
   "metadata": {},
   "outputs": [],
   "source": []
  }
 ],
 "metadata": {
  "kernelspec": {
   "display_name": ".venv",
   "language": "python",
   "name": "python3"
  },
  "language_info": {
   "codemirror_mode": {
    "name": "ipython",
    "version": 3
   },
   "file_extension": ".py",
   "mimetype": "text/x-python",
   "name": "python",
   "nbconvert_exporter": "python",
   "pygments_lexer": "ipython3",
   "version": "3.11.8"
  }
 },
 "nbformat": 4,
 "nbformat_minor": 2
}
